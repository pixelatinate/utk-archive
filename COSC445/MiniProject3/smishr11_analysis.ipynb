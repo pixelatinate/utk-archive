{
 "cells": [
  {
   "cell_type": "code",
   "execution_count": 1,
   "id": "928ea87f",
   "metadata": {},
   "outputs": [
    {
     "ename": "SyntaxError",
     "evalue": "invalid syntax (1608638388.py, line 4)",
     "output_type": "error",
     "traceback": [
      "\u001b[0;36m  Input \u001b[0;32mIn [1]\u001b[0;36m\u001b[0m\n\u001b[0;31m    names(dat)=c(\"state\",\"fruit\",\"path\", paste(\"f\", 1:2048, sep=\"\"))\u001b[0m\n\u001b[0m                                                     ^\u001b[0m\n\u001b[0;31mSyntaxError\u001b[0m\u001b[0;31m:\u001b[0m invalid syntax\n"
     ]
    }
   ],
   "source": [
    "library(randomForest)\n",
    "library(caret)\n",
    "dat=read.table(\"/home/smishr11/features.csv\", sep=\";\")\n",
    "names(dat)=c(\"state\",\"fruit\",\"path\", paste(\"f\", 1:2048, sep=\"\"))"
   ]
  },
  {
   "cell_type": "code",
   "execution_count": null,
   "id": "4246b7af",
   "metadata": {},
   "outputs": [
    {
     "ename": "SyntaxError",
     "evalue": "invalid syntax (1518388177.py, line 1)",
     "output_type": "error",
     "traceback": [
      "\u001b[0;36m  Input \u001b[0;32mIn [4]\u001b[0;36m\u001b[0m\n\u001b[0;31m    table(as.character(dat$state))\u001b[0m\n\u001b[0m          ^\u001b[0m\n\u001b[0;31mSyntaxError\u001b[0m\u001b[0;31m:\u001b[0m invalid syntax\n"
     ]
    }
   ],
   "source": [
    "table(as.character(dat$state)) \n",
    "      \n",
    "-sort(-table(as.character(dat$fruit)))\n"
   ]
  },
  {
   "cell_type": "code",
   "execution_count": null,
   "id": "257033f6",
   "metadata": {},
   "outputs": [
    {
     "ename": "SyntaxError",
     "evalue": "invalid syntax (470262446.py, line 3)",
     "output_type": "error",
     "traceback": [
      "\u001b[0;36m  Input \u001b[0;32mIn [5]\u001b[0;36m\u001b[0m\n\u001b[0;31m    resp = as.factor(dat$state=='rotten'&dat$fruit=='endive')\u001b[0m\n\u001b[0m           ^\u001b[0m\n\u001b[0;31mSyntaxError\u001b[0m\u001b[0;31m:\u001b[0m invalid syntax\n"
     ]
    }
   ],
   "source": [
    "#Lets try to see if we have fresh or not, e.g., quality control for groceries:\n",
    "# This specific assignment investigates predictor for rotten endive\n",
    "resp = as.factor(dat$state=='rotten'&dat$fruit=='endive')\n",
    "grps = createDataPartition(resp,p=.7,list=FALSE)\n",
    "trns = grps\n",
    "vals = -grps\n",
    "#lets use all 2048 feature vectors for the model\n",
    "rng=1:2048\n",
    "rng=1:20\n",
    "trains <- dat[trns,]\n",
    "validates  <- dat[vals,]\n",
    "trainsX <-trains[,-c(1:3)][,rng] \n",
    "trainsY <- resp[trns];\n",
    "valsX <-validates[,-c(1:3)][,rng] \n",
    "valsY <- resp[vals];\n",
    "\n",
    "#No we can fit the model (Random Forest) and predict on the validation set (as the number of predictors increases, TF becomes much slower, so we use just 100 out of 248*6 predictors here:\n",
    "\n",
    "rfs=randomForest(trainsX[,],y=trainsY)\n",
    "prfs.v = predict(rfs,valsX)\n",
    "table(prfs.v,valsY)"
   ]
  },
  {
   "cell_type": "markdown",
   "id": "0bb58e33",
   "metadata": {},
   "source": [
    "Discuss the finding...."
   ]
  },
  {
   "cell_type": "code",
   "execution_count": null,
   "id": "c515f032",
   "metadata": {},
   "outputs": [],
   "source": [
    "# 200 predictors (10%) explain XX% of the variance\n",
    "pca <- prcomp(dat[,-c(1:3)], center = TRUE, scale = TRUE) \n",
    "sum(pca$sdev[1:200])/sum(pca$sdev)\n"
   ]
  },
  {
   "cell_type": "code",
   "execution_count": null,
   "id": "c89ad470",
   "metadata": {},
   "outputs": [],
   "source": [
    "\n",
    "\n",
    "trainsRX = pca$x[trns,1:200]\n",
    "valsRX <-pca$x[vals,1:200] \n",
    "rfsR=randomForest(trainsRX,y=trainsY)\n",
    "prfsR.v = predict(rfsR,valsRX)\n",
    "table(prfsR.v,valsY)\n",
    "\n"
   ]
  },
  {
   "cell_type": "markdown",
   "id": "8d8f7029",
   "metadata": {},
   "source": [
    "Discuss the finding....\n",
    "\n",
    "For comparison, lets try svn (another commonly used classification technique)\n"
   ]
  },
  {
   "cell_type": "code",
   "execution_count": null,
   "id": "43c2b605",
   "metadata": {},
   "outputs": [],
   "source": [
    "library(e1071)\n",
    "svmMod = svm(trainsY~., data = trainsRX)\n",
    "prfsS.v = predict(svmMod,valsRX)\n",
    "table(prfsS.v,valsY)\n"
   ]
  },
  {
   "cell_type": "markdown",
   "id": "9ae187ec",
   "metadata": {},
   "source": [
    "Discuss the finding"
   ]
  },
  {
   "cell_type": "markdown",
   "id": "a3622a47",
   "metadata": {},
   "source": [
    "\n",
    "Finally, lets try the oldest/simplest technique - k-Nearedt Neighbor (knn)\n"
   ]
  },
  {
   "cell_type": "code",
   "execution_count": null,
   "id": "3792adce",
   "metadata": {},
   "outputs": [],
   "source": [
    "#Looks like it take a long time\n",
    "library(class)\n",
    "trainsKX = dat[trns,-c(1:3)]\n",
    "valsKX = dat[vals,-c(1:3)] \n",
    "trainsY=resp[trns]\n",
    "valsY=resp[vals]\n",
    "kMod = knn(trainsKX, valsKX, trainsY)\n",
    "table(kMod,valsY)\n"
   ]
  },
  {
   "cell_type": "markdown",
   "id": "ceb3dc2d",
   "metadata": {},
   "source": [
    "Discuss the finding"
   ]
  },
  {
   "cell_type": "code",
   "execution_count": null,
   "id": "b0f8ccaf",
   "metadata": {},
   "outputs": [],
   "source": []
  }
 ],
 "metadata": {
  "kernelspec": {
   "display_name": "Python 3 (ipykernel)",
   "language": "python",
   "name": "python3"
  },
  "language_info": {
   "codemirror_mode": {
    "name": "ipython",
    "version": 3
   },
   "file_extension": ".py",
   "mimetype": "text/x-python",
   "name": "python",
   "nbconvert_exporter": "python",
   "pygments_lexer": "ipython3",
   "version": "3.8.10"
  },
  "vscode": {
   "interpreter": {
    "hash": "31f2aee4e71d21fbe5cf8b01ff0e069b9275f58929596ceb00d14d90e3e16cd6"
   }
  }
 },
 "nbformat": 4,
 "nbformat_minor": 5
}
