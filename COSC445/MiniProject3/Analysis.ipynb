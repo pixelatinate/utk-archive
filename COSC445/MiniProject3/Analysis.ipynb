{
 "cells": [
  {
   "cell_type": "code",
   "execution_count": 1,
   "id": "928ea87f",
   "metadata": {},
   "outputs": [
    {
     "name": "stderr",
     "output_type": "stream",
     "text": [
      "randomForest 4.6-14\n",
      "\n",
      "Type rfNews() to see new features/changes/bug fixes.\n",
      "\n",
      "Loading required package: ggplot2\n",
      "\n",
      "\n",
      "Attaching package: 'ggplot2'\n",
      "\n",
      "\n",
      "The following object is masked from 'package:randomForest':\n",
      "\n",
      "    margin\n",
      "\n",
      "\n",
      "Loading required package: lattice\n",
      "\n"
     ]
    }
   ],
   "source": [
    "library(randomForest)\n",
    "library(caret)\n",
    "dat=read.table(\"features.gz\", sep=\";\")\n",
    "names(dat)=c(\"state\",\"fruit\",\"path\", paste(\"f\", 1:2048, sep=\"\"))\n"
   ]
  },
  {
   "cell_type": "code",
   "execution_count": null,
   "id": "4246b7af",
   "metadata": {},
   "outputs": [],
   "source": [
    "table(as.character(dat$state)) \n",
    "      \n",
    "-sort(-table(as.character(dat$fruit)))[1:120]\n"
   ]
  },
  {
   "cell_type": "code",
   "execution_count": null,
   "id": "28871683",
   "metadata": {},
   "outputs": [],
   "source": [
    "# Even though we have over 1K instances for the least common fruit\n",
    "# lets create a datframe that has one of the 20 most common fruit\n",
    "# as some of the ML methods take a lot longer:\n",
    "top120F = names(sort(-table(as.character(dat$fruit)))[1:20])\n",
    "datf = dat[match(dat$fruit,top120F,nomatch=0)>0,]\n",
    "fruit=as.factor(as.character(datf$fruit))\n",
    "\n",
    "#To do the training we need to separate the data into \n",
    "# training/validation sets, createDataPartition allows \n",
    "# to do that easily by ensuring that all the classes are \n",
    "# in both parts: we select 70% for training here:\n",
    "grpf = createDataPartition(fruit,p=.7,list=FALSE)\n",
    "trnf = grpf\n",
    "valf = -grpf\n",
    "#we can use use all 2048 feature vectors for the model\n",
    "rng=1:2048 # but some of the models take forever for all these features, try fewer, e.g., 20\n",
    "rng=1:20\n",
    "trainf <- datf[trnf,]\n",
    "validatef  <- datf[valf,]\n",
    "trainfX <-trainf[,-c(1:3)][,rng] \n",
    "trainfY <- fruit[trnf];\n",
    "valfX <-validatef[,-c(1:3)][,rng] \n",
    "valfY <- fruit[valf];"
   ]
  },
  {
   "cell_type": "code",
   "execution_count": null,
   "id": "46707258",
   "metadata": {},
   "outputs": [],
   "source": [
    "library(e1071)\n",
    "svmMod = svm(trainfY~., data = trainfX)\n",
    "prfS.v = predict(svmMod,valfX)\n",
    "#and check how frequently the predicted class matched the actual class:\n",
    "\n",
    "table(prfS.v==valfY)\n",
    "#not great!\n",
    "#FALSE  TRUE \n",
    "# 3745  4088 \n"
   ]
  },
  {
   "cell_type": "code",
   "execution_count": null,
   "id": "88e3f466",
   "metadata": {},
   "outputs": [],
   "source": [
    "#No we can fit the model (Random Forest) and predict on \n",
    "# the validation set:\n",
    "rff=randomForest(trainfX,y=trainfY)\n",
    "prff.v = predict(rff,valfX)\n",
    "#and check how frequently the predicted class matched the actual class:\n",
    "table(prff.v==valfY) \n",
    "\n",
    "#Not so great, but we are using only 20 of the 2048 features!\n",
    "#FALSE  TRUE \n",
    "# 2787  5046 \n"
   ]
  },
  {
   "cell_type": "code",
   "execution_count": 3,
   "id": "257033f6",
   "metadata": {},
   "outputs": [
    {
     "data": {
      "text/plain": [
       "       valsY\n",
       "prfs.v  FALSE TRUE\n",
       "  FALSE  9981 4149\n",
       "  TRUE   4033 9939"
      ]
     },
     "metadata": {},
     "output_type": "display_data"
    }
   ],
   "source": [
    "#Lets try to see if we have fresh or not, e.g., quality control for groceries:\n",
    "\n",
    "state= as.factor(as.character(dat$state)=='fresh')\n",
    "grps = createDataPartition(state,p=.7,list=FALSE)\n",
    "trns = grps\n",
    "vals = -grps\n",
    "#lets use all 2048 feature vectors for the model\n",
    "rng=1:2048\n",
    "rng=1:20\n",
    "trains <- dat[trns,]\n",
    "validates  <- dat[vals,]\n",
    "trainsX <-trains[,-c(1:3)][,rng] \n",
    "trainsY <- state[trns];\n",
    "valsX <-validates[,-c(1:3)][,rng] \n",
    "valsY <- state[vals];\n",
    "\n",
    "#No we can fit the model (Random Forest) and predict on the validation set (as the number of predictors increases, TF becomes much slower, so we use just 100 out of 248*6 predictors here:\n",
    "\n",
    "rfs=randomForest(trainsX[,],y=trainsY)\n",
    "prfs.v = predict(rfs,valsX)\n",
    "table(prfs.v,valsY)"
   ]
  },
  {
   "cell_type": "markdown",
   "id": "0bb58e33",
   "metadata": {},
   "source": [
    "A almost 33% of not-fresh are classified as fresh and of fresh as non-fresh!\n",
    "\n",
    "That means the classify would allow plenty of bad fruit on the shelves even after throwing out \n",
    "a lot of fresh fruit.\n",
    "\n",
    "Lets try to reduce the dimensionality of the 2048 predictors so that we can get results a bit faster and get better accuracy:"
   ]
  },
  {
   "cell_type": "code",
   "execution_count": 4,
   "id": "c515f032",
   "metadata": {},
   "outputs": [
    {
     "data": {
      "text/html": [
       "0.32042877941773"
      ],
      "text/latex": [
       "0.32042877941773"
      ],
      "text/markdown": [
       "0.32042877941773"
      ],
      "text/plain": [
       "[1] 0.3204288"
      ]
     },
     "metadata": {},
     "output_type": "display_data"
    }
   ],
   "source": [
    "# 200 predictors (10%) explain 32% of the variance, just OK\n",
    "pca <- prcomp(dat[,-c(1:3)], center = TRUE, scale = TRUE) \n",
    "sum(pca$sdev[1:200])/sum(pca$sdev)\n"
   ]
  },
  {
   "cell_type": "code",
   "execution_count": 5,
   "id": "c89ad470",
   "metadata": {},
   "outputs": [
    {
     "data": {
      "text/plain": [
       "       valsY\n",
       "prfsR.v FALSE  TRUE\n",
       "  FALSE 12254  2504\n",
       "  TRUE   1760 11584"
      ]
     },
     "metadata": {},
     "output_type": "display_data"
    }
   ],
   "source": [
    "#First 200 directions represent over 41% of the variance.\n",
    "\n",
    "trainsRX = pca$x[trns,1:200]\n",
    "valsRX <-pca$x[vals,1:200] \n",
    "rfsR=randomForest(trainsRX,y=trainsY)\n",
    "prfsR.v = predict(rfsR,valsRX)\n",
    "table(prfsR.v,valsY)\n",
    "\n"
   ]
  },
  {
   "cell_type": "markdown",
   "id": "8d8f7029",
   "metadata": {},
   "source": [
    "Much better, but not that great: false positive rate for non-fresh is almost 13%.\n",
    " \n",
    "    - Can try to use all predictors but will have to cope with longer fitting time (days?),\n",
    "    - Collect more data\n",
    "    - Clean existing data (for example focus on fruit with large samples as this uses all fruit types)\n",
    "\n",
    "For comparison, lets try svn (another commonly used classification technique)\n"
   ]
  },
  {
   "cell_type": "code",
   "execution_count": 6,
   "id": "43c2b605",
   "metadata": {},
   "outputs": [
    {
     "data": {
      "text/plain": [
       "       valsY\n",
       "prfsS.v FALSE  TRUE\n",
       "  FALSE 11894  1707\n",
       "  TRUE   2120 12381"
      ]
     },
     "metadata": {},
     "output_type": "display_data"
    }
   ],
   "source": [
    "# takes extremely long time, similar results..\n",
    "library(e1071)\n",
    "svmMod = svm(trainsY~., data = trainsRX)\n",
    "prfsS.v = predict(svmMod,valsRX)\n",
    "table(prfsS.v,valsY)\n"
   ]
  },
  {
   "cell_type": "markdown",
   "id": "a3622a47",
   "metadata": {},
   "source": [
    "\n",
    "Finally, lets try the oldest/simplest technique - k-Nearedt Neighbor (knn)\n"
   ]
  },
  {
   "cell_type": "code",
   "execution_count": null,
   "id": "3792adce",
   "metadata": {},
   "outputs": [],
   "source": [
    "#Looks like it take a long time\n",
    "library(class)\n",
    "trainsKX = dat[trns,-c(1:3)]\n",
    "valsKX = dat[vals,-c(1:3)] \n",
    "trainsY=dat$state[trns]\n",
    "valsY=dat$state[vals]\n",
    "kMod = knn(trainsKX, valsKX, trainsY)\n",
    "table(kMod,valsY)\n"
   ]
  },
  {
   "cell_type": "markdown",
   "id": "ceb3dc2d",
   "metadata": {},
   "source": [
    "Wow!"
   ]
  },
  {
   "cell_type": "code",
   "execution_count": null,
   "id": "b0f8ccaf",
   "metadata": {},
   "outputs": [],
   "source": []
  }
 ],
 "metadata": {
  "kernelspec": {
   "display_name": "R",
   "language": "R",
   "name": "ir"
  },
  "language_info": {
   "codemirror_mode": "r",
   "file_extension": ".r",
   "mimetype": "text/x-r-source",
   "name": "R",
   "pygments_lexer": "r",
   "version": "3.6.3"
  }
 },
 "nbformat": 4,
 "nbformat_minor": 5
}
