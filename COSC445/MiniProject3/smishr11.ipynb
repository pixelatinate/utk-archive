{
 "cells": [
  {
   "cell_type": "code",
   "execution_count": null,
   "id": "928ea87f",
   "metadata": {
    "vscode": {
     "languageId": "r"
    }
   },
   "outputs": [],
   "source": [
    "library(randomForest)\n",
    "library(caret)\n",
    "#replace audris with your netid\n",
    "dat=read.table(\"/home/smishr11/features.csv\", sep=\";\")\n",
    "names(dat)=c(\"state\",\"fruit\",\"path\", paste(\"f\", 1:2048, sep=\"\"))\n"
   ]
  },
  {
   "cell_type": "code",
   "execution_count": null,
   "id": "4246b7af",
   "metadata": {
    "vscode": {
     "languageId": "r"
    }
   },
   "outputs": [
    {
     "data": {
      "text/plain": [
       "\n",
       " fresh rotten \n",
       "     6    938 "
      ]
     },
     "metadata": {},
     "output_type": "display_data"
    },
    {
     "data": {
      "text/plain": [
       "\n",
       "       endive  strawberries      tomatoes summer_squash      tangelos \n",
       "          438            72            72            54            54 \n",
       "     rutabaga    tangerines       spinach    tomatillos          yams \n",
       "           42            42            24            24            24 \n",
       "       sapote       turnips   raspberries       rhubarb        squash \n",
       "           18            18            14            12            12 \n",
       "      lettuce     scallions   swiss_chard    watercress \n",
       "            6             6             6             6 "
      ]
     },
     "metadata": {},
     "output_type": "display_data"
    }
   ],
   "source": [
    "table(as.character(dat$state)) \n",
    "      \n",
    "-sort(-table(as.character(dat$fruit)))\n"
   ]
  },
  {
   "cell_type": "code",
   "execution_count": null,
   "id": "257033f6",
   "metadata": {
    "vscode": {
     "languageId": "r"
    }
   },
   "outputs": [
    {
     "data": {
      "text/plain": [
       "       valsY\n",
       "prfs.v  FALSE TRUE\n",
       "  FALSE   140   32\n",
       "  TRUE     11   99"
      ]
     },
     "metadata": {},
     "output_type": "display_data"
    }
   ],
   "source": [
    "#Lets try to see if we have fresh or not, e.g., quality control for groceries:\n",
    "# This specific assignment investigates predictor for rotten endive\n",
    "resp = as.factor(dat$state=='rotten'&dat$fruit=='endive')\n",
    "grps = createDataPartition(resp,p=.7,list=FALSE)\n",
    "trns = grps\n",
    "vals = -grps\n",
    "#lets use all 2048 feature vectors for the model\n",
    "rng=1:2048\n",
    "rng=1:20\n",
    "trains <- dat[trns,]\n",
    "validates  <- dat[vals,]\n",
    "trainsX <-trains[,-c(1:3)][,rng] \n",
    "trainsY <- resp[trns];\n",
    "valsX <-validates[,-c(1:3)][,rng] \n",
    "valsY <- resp[vals];\n",
    "\n",
    "#No we can fit the model (Random Forest) and predict on the validation set (as the number of predictors increases, TF becomes much slower, so we use just 100 out of 248*6 predictors here:\n",
    "\n",
    "rfs=randomForest(trainsX[,],y=trainsY)\n",
    "prfs.v = predict(rfs,valsX)\n",
    "table(prfs.v,valsY)"
   ]
  },
  {
   "cell_type": "markdown",
   "id": "0bb58e33",
   "metadata": {},
   "source": [
    "Discuss the finding....\n",
    "\n",
    "The model chooses \"false\" more often than \"true\". This makes sense, as most of the images it processes are likely not what it is looking for. "
   ]
  },
  {
   "cell_type": "code",
   "execution_count": null,
   "id": "c515f032",
   "metadata": {
    "vscode": {
     "languageId": "r"
    }
   },
   "outputs": [
    {
     "data": {
      "text/html": [
       "0.607320375203272"
      ],
      "text/latex": [
       "0.607320375203272"
      ],
      "text/markdown": [
       "0.607320375203272"
      ],
      "text/plain": [
       "[1] 0.6073204"
      ]
     },
     "metadata": {},
     "output_type": "display_data"
    }
   ],
   "source": [
    "# 200 predictors (10%) explain XX% of the variance\n",
    "pca <- prcomp(dat[,-c(1:3)], center = TRUE, scale = TRUE) \n",
    "sum(pca$sdev[1:200])/sum(pca$sdev)\n"
   ]
  },
  {
   "cell_type": "code",
   "execution_count": null,
   "id": "c89ad470",
   "metadata": {
    "vscode": {
     "languageId": "r"
    }
   },
   "outputs": [
    {
     "data": {
      "text/plain": [
       "       valsY\n",
       "prfsR.v FALSE TRUE\n",
       "  FALSE   145    8\n",
       "  TRUE      6  123"
      ]
     },
     "metadata": {},
     "output_type": "display_data"
    }
   ],
   "source": [
    "\n",
    "\n",
    "trainsRX = pca$x[trns,1:200]\n",
    "valsRX <-pca$x[vals,1:200] \n",
    "rfsR=randomForest(trainsRX,y=trainsY)\n",
    "prfsR.v = predict(rfsR,valsRX)\n",
    "table(prfsR.v,valsY)\n",
    "\n"
   ]
  },
  {
   "cell_type": "markdown",
   "id": "8d8f7029",
   "metadata": {},
   "source": [
    "Discuss the finding....\n",
    "\n",
    "The model marginally improves, meaning that PCA is an effective way to improve model predictions. \n"
   ]
  },
  {
   "cell_type": "code",
   "execution_count": null,
   "id": "43c2b605",
   "metadata": {
    "vscode": {
     "languageId": "r"
    }
   },
   "outputs": [
    {
     "data": {
      "text/plain": [
       "       valsY\n",
       "prfsS.v FALSE TRUE\n",
       "  FALSE   144    0\n",
       "  TRUE      7  131"
      ]
     },
     "metadata": {},
     "output_type": "display_data"
    }
   ],
   "source": [
    "library(e1071)\n",
    "svmMod = svm(trainsY~., data = trainsRX)\n",
    "prfsS.v = predict(svmMod,valsRX)\n",
    "table(prfsS.v,valsY)\n"
   ]
  },
  {
   "cell_type": "markdown",
   "id": "9ae187ec",
   "metadata": {},
   "source": [
    "Discuss the finding"
   ]
  },
  {
   "cell_type": "markdown",
   "id": "a3622a47",
   "metadata": {},
   "source": [
    "This one performs the best- it is most confident and definitively chooses False/False often. \n",
    "\n",
    "Finally, lets try the oldest/simplest technique - k-Nearedt Neighbor (knn)\n"
   ]
  },
  {
   "cell_type": "code",
   "execution_count": null,
   "id": "3792adce",
   "metadata": {
    "vscode": {
     "languageId": "r"
    }
   },
   "outputs": [
    {
     "data": {
      "text/plain": [
       "       valsY\n",
       "kMod    FALSE TRUE\n",
       "  FALSE   151    0\n",
       "  TRUE      0  131"
      ]
     },
     "metadata": {},
     "output_type": "display_data"
    }
   ],
   "source": [
    "#Looks like it take a long time\n",
    "library(class)\n",
    "trainsKX = dat[trns,-c(1:3)]\n",
    "valsKX = dat[vals,-c(1:3)] \n",
    "trainsY=resp[trns]\n",
    "valsY=resp[vals]\n",
    "kMod = knn(trainsKX, valsKX, trainsY)\n",
    "table(kMod,valsY)\n"
   ]
  },
  {
   "cell_type": "markdown",
   "id": "ceb3dc2d",
   "metadata": {},
   "source": [
    "Discuss the finding"
   ]
  },
  {
   "cell_type": "code",
   "execution_count": null,
   "id": "b0f8ccaf",
   "metadata": {
    "vscode": {
     "languageId": "r"
    }
   },
   "outputs": [],
   "source": [
    "This model is by far the best. While the model may be filing images incorrectly, it is very confident about how it is filing them, with every image either false/false or true/true."
   ]
  }
 ],
 "metadata": {
  "kernelspec": {
   "display_name": "R",
   "language": "R",
   "name": "ir"
  },
  "language_info": {
   "codemirror_mode": "r",
   "file_extension": ".r",
   "mimetype": "text/x-r-source",
   "name": "R",
   "pygments_lexer": "r",
   "version": "3.6.3"
  }
 },
 "nbformat": 4,
 "nbformat_minor": 5
}
